{
 "cells": [
  {
   "cell_type": "markdown",
   "id": "842edd5f-37ac-4da6-ac71-7db6682b858c",
   "metadata": {},
   "source": [
    "Q1. Write a python program to extract the video URL of the first five videos."
   ]
  },
  {
   "cell_type": "markdown",
   "id": "fd2204b7-6b10-482e-bbb2-6b8635c9dbf7",
   "metadata": {},
   "source": [
    "1.Find the URL that you want to scrape.\n",
    "2.Inspecting the Page.\n",
    "3.Find the data you want to extract.\n",
    "4.Write the code.\n",
    "5.Run the code and extract the data.\n",
    "6.Store the data in the required format."
   ]
  },
  {
   "cell_type": "markdown",
   "id": "31ecfccf-eb8a-4395-8f3c-d8c90d9d458c",
   "metadata": {},
   "source": [
    "Q2. Write a python program to extract the URL of the video thumbnails of the first five videos."
   ]
  },
  {
   "cell_type": "markdown",
   "id": "a721b7c9-6628-43da-a74c-052a1361c807",
   "metadata": {},
   "source": [
    "1.To get the thumbnail, open the video and copy the URL from the browser address bar. ...\n",
    "2.Paste the URL in the corresponding field of our thumbnail downloader, and you'll already see the thumbnail generated within the left-side window.\n",
    "3.Now, all you need to do is hit the download button and save the image on your device."
   ]
  },
  {
   "cell_type": "markdown",
   "id": "7033ea97-64d4-483b-b490-8ec0dbcedf1d",
   "metadata": {},
   "source": [
    "Q3. Write a python program to extract the title of the first five videos."
   ]
  },
  {
   "cell_type": "markdown",
   "id": "d4cf2d08-fec8-4df9-9d20-1660afa478d0",
   "metadata": {},
   "source": [
    "Method 1: Using Request and Beautiful Soup libraries. ...\n",
    "Method 2: Extracting title using urllib and BeautifulSoup. ...\n",
    "Method 3: Extracting title using selenium and BeautifulSoup. ...\n",
    "Method 4: Extracting title using regular expressions."
   ]
  },
  {
   "cell_type": "markdown",
   "id": "c24d5907-b8a8-4351-8c9e-71c4670173b3",
   "metadata": {},
   "source": [
    "Q4. Write a python program to extract the number of views of the first five videos."
   ]
  },
  {
   "cell_type": "markdown",
   "id": "50200cff-2fd4-42b0-80b6-e059f53a5168",
   "metadata": {},
   "source": [
    "Step 1: Import the required modules. The first step is to import the required modules, i.e., moviepy and speech_recognition. ...\n",
    "Step 2: Load the video. ...\n",
    "Step 3: Extract audio from the video. ...\n",
    "Step 4: Load audio. ...\n",
    "Step 5: Convert audio to text."
   ]
  },
  {
   "cell_type": "markdown",
   "id": "ad87a464-ad64-4170-9563-9da69db3c0be",
   "metadata": {},
   "source": [
    "Q5. Write a python program to extract the time of posting of video for the first five videos."
   ]
  },
  {
   "cell_type": "code",
   "execution_count": null,
   "id": "316625cb-5495-4919-9b60-01bafdb5e6d6",
   "metadata": {},
   "outputs": [],
   "source": []
  }
 ],
 "metadata": {
  "kernelspec": {
   "display_name": "Python 3 (ipykernel)",
   "language": "python",
   "name": "python3"
  },
  "language_info": {
   "codemirror_mode": {
    "name": "ipython",
    "version": 3
   },
   "file_extension": ".py",
   "mimetype": "text/x-python",
   "name": "python",
   "nbconvert_exporter": "python",
   "pygments_lexer": "ipython3",
   "version": "3.10.8"
  }
 },
 "nbformat": 4,
 "nbformat_minor": 5
}
